{
 "cells": [
  {
   "cell_type": "code",
   "execution_count": 9,
   "metadata": {
    "ExecuteTime": {
     "end_time": "2020-09-01T14:57:04.925016Z",
     "start_time": "2020-09-01T14:57:04.919031Z"
    }
   },
   "outputs": [
    {
     "data": {
      "text/plain": [
       "True"
      ]
     },
     "execution_count": 9,
     "metadata": {},
     "output_type": "execute_result"
    }
   ],
   "source": [
    "summoner='5bP75FEeodLSJd1NcQlO9aL0G8vrjYiD8lAP1nw5X6yUtECy'\n",
    "match = na_matches[0]\n",
    "summoner in [summoner['player']['summonerId'] for summoner in match['participantIdentities']]"
   ]
  },
  {
   "cell_type": "code",
   "execution_count": null,
   "metadata": {
    "ExecuteTime": {
     "start_time": "2020-09-01T15:20:28.379Z"
    }
   },
   "outputs": [],
   "source": [
    "player_id = 1\n",
    "match['participants'][player_id]['timeline']"
   ]
  },
  {
   "cell_type": "code",
   "execution_count": 17,
   "metadata": {
    "ExecuteTime": {
     "end_time": "2020-09-01T15:09:36.791823Z",
     "start_time": "2020-09-01T15:09:36.782836Z"
    }
   },
   "outputs": [],
   "source": [
    "def get_stats(summoner='YKi_FDk4Sv8jgG35e6M_VnmZO8Dr4GMF0MSxS8Ga854BuPQ', matches = na_matches, timelines = na_timelines):\n",
    "# For each player:\n",
    "    # Main role = most played role where role is played > 40% of the time\n",
    "    # Main champion = most played champion\n",
    "    \n",
    "    # Select all matches and timelines that they are in\n",
    "    for i, match in enumerate(matches):\n",
    "        is_in_game = summoner in [summoner['player']['summonerId'] for summoner in match['participantIdentities']]\n",
    "        if is_in_game:\n",
    "        # For each match:\n",
    "        # Match info:\n",
    "            game_id = match['gameId']\n",
    "            player_id = int([player['participantId'] for player in match['participantIdentities'] \n",
    "                if player['player']['summonerId'] == summoner][0])\n",
    "            # Identify champion played\n",
    "            champ_played = match['participants'][player_id]['championId']\n",
    "            # Identify role played\n",
    "            role = match['participants'][player_id]['timeline']['role']\n",
    "            # Identify lane opponent\n",
    "            team = match['participants'][player_id]['teamId']\n",
    "            opponent_id = int([player['participantId'] for player in match['participantIdentities'] \n",
    "                if match['participants'][player['participantId']-1]['timeline']['role'] == role\n",
    "                               and match['participants'][player['participantId']-1]['team'] != team])    \n",
    "            # Get CSD and XPD @ 15\n",
    "            csd_10 = \n",
    "            # Get DMG share\n",
    "            # Get DMG Taken share\n",
    "            # Get 0-10 CSPM\n",
    "            # Get 10-20 CSPM\n",
    "            # Get 20+ CSPM:\n",
    "                # Subtract CS at 20 from total CS, divide by game time \n",
    "            # Get vision score\n",
    "            # Get overall kill participation\n",
    "            # % of team's objective damage % of team's turret damage\n",
    "            # of dragons killed / game\n",
    "            # of barons killed / game average time to first baron\n",
    "\n",
    "        # For each timeline:\n",
    "            # Get number of duel kills and deaths\n",
    "            # Get number of teamfight kills and deaths\n",
    "            # Get number of skirmish kills and deaths\n",
    "            # Get 0-10 K+D+A\n",
    "            # Get 10-20 K+D+A\n",
    "            # Get 20+ K+D+A\n",
    "            # Get 0-10 wards placed\n",
    "            # Get 10-20 wards placed\n",
    "            # Get 20+ wards placed\n",
    "            # Get wards cleared\n",
    "            # Get pinks purchased\n",
    "            # Get time of first kill/assist\n",
    "            # get time of first tower\n",
    "            # get number of solo kills\n",
    "            # Get total Kills + Assists\n",
    "            # STRETCH: get # of kills past enemy turret line\n",
    "        "
   ]
  },
  {
   "cell_type": "code",
   "execution_count": null,
   "metadata": {
    "ExecuteTime": {
     "start_time": "2020-09-01T15:09:48.426Z"
    }
   },
   "outputs": [],
   "source": [
    "get_stats()"
   ]
  },
  {
   "cell_type": "code",
   "execution_count": null,
   "metadata": {},
   "outputs": [],
   "source": [
    "players_to_evaluate"
   ]
  },
  {
   "cell_type": "code",
   "execution_count": null,
   "metadata": {},
   "outputs": [],
   "source": [
    "ids = []\n",
    "with jsonlines.open(f'../data/scraped_ids_na.jsonl') as infile:\n",
    "                for line in infile.iter():\n",
    "                    ids.append(line)"
   ]
  },
  {
   "cell_type": "markdown",
   "metadata": {},
   "source": [
    "Questions to answer:\n",
    "*We want to use ratios not absolute stats, as we're comparing high-elo to low-elo so stuff like CSPM is just not going to be useful...*\n",
    "\n",
    "#### Will need later:\n",
    "- Most-played champion\n",
    "- Most-played role\n",
    "\n",
    "#### Fighting fingerprint: percentage of fights with are duels, skirmishes, and teamfights...\n",
    "- Can I calculate duels (1v1 fights as detected by the death of one or both players)\n",
    "- Stat contribution: easy. Get DMG Share and DMG Taken Share\n",
    "- Can I calculate teamfights (3v3+ fights as detected by assists or kills)\n",
    "- Can I calculate picks (1 player dying to 2 or more players with no return kill (how to define return kill?)\n",
    "- Can I calculate skirmishes (2vX)\n",
    "\n",
    "#### Farming to Fighting Ratio\n",
    "Early Game: pre-10 CSPM / average(kills + assists + deaths) before 10  \n",
    "Mid Game: 10-20 min CSPM / average(kills + assists + deaths) between 10 and 20  \n",
    "Late Game: 20+ CSPM / average(kills + assists + deaths) after 20  \n",
    "\n",
    "#### Lane aggressiveness:\n",
    "CSD and XPD @ 15   \n",
    "average (kills + assists + deaths) before 15    \n",
    "(STRETCH) relate to number of roams?    \n",
    "\n",
    "#### Vision focus:\n",
    "Wards placed pre-10  \n",
    "Wards placed pre-20  \n",
    "Wards placed pre-30  \n",
    "\n",
    "Vision Score/Minute   \n",
    "\n",
    "Wards Cleared  \n",
    "Pinks purchased  \n",
    "(STRETCH) % of enemy wards cleared  \n",
    "\n",
    "#### Aggression\n",
    "Average time to First Kill/Assist  \n",
    "Average time to First Tower  \n",
    "% of kills = solo kills  \n",
    "Forward Kills: % of kills past enemy 1st turret line  \n",
    "Kill Participation  \n",
    "Overall Kills+Assists / Minute  \n",
    "\n",
    "#### Teamwork\n",
    "% of team's objective damage\n",
    "% of team's turret damage  \n",
    "\\# of dragons killed / game  \n",
    "\\# of barons killed / game\n",
    "average time to first baron\n",
    "\n",
    "\n",
    "\n"
   ]
  },
  {
   "cell_type": "code",
   "execution_count": 15,
   "metadata": {
    "ExecuteTime": {
     "end_time": "2020-09-01T14:58:49.372713Z",
     "start_time": "2020-09-01T14:58:49.202896Z"
    }
   },
   "outputs": [],
   "source": [
    "import pandas as pd\n",
    "import numpy as np\n",
    "import matplotlib.pyplot as plt\n",
    "import seaborn as sns\n",
    "import jsonlines\n",
    "import json\n",
    "\n",
    "pd.set_option('display.max_columns', None)\n",
    "pd.set_option('display.max_rows', None)"
   ]
  },
  {
   "cell_type": "code",
   "execution_count": 4,
   "metadata": {
    "ExecuteTime": {
     "end_time": "2020-09-01T14:55:36.206319Z",
     "start_time": "2020-09-01T14:55:36.202329Z"
    }
   },
   "outputs": [],
   "source": [
    "def ms_to_s(ms):\n",
    "    return round(ms / 1000)"
   ]
  },
  {
   "cell_type": "code",
   "execution_count": 5,
   "metadata": {
    "ExecuteTime": {
     "end_time": "2020-09-01T14:55:45.500024Z",
     "start_time": "2020-09-01T14:55:36.208313Z"
    }
   },
   "outputs": [],
   "source": [
    "na_matches = []\n",
    "with jsonlines.open('../data/cleaned/matches_na.jsonl') as infile:\n",
    "    for line in infile:\n",
    "        na_matches.append(line)\n",
    "        \n",
    "        "
   ]
  },
  {
   "cell_type": "code",
   "execution_count": 6,
   "metadata": {
    "ExecuteTime": {
     "end_time": "2020-09-01T14:56:29.883648Z",
     "start_time": "2020-09-01T14:55:45.501860Z"
    }
   },
   "outputs": [],
   "source": [
    "na_timelines = []\n",
    "with jsonlines.open('../data/cleaned/timelines_na.jsonl') as infile:\n",
    "    for line in infile:\n",
    "        na_timelines.append(line)"
   ]
  },
  {
   "cell_type": "code",
   "execution_count": 7,
   "metadata": {
    "ExecuteTime": {
     "end_time": "2020-09-01T14:56:30.030254Z",
     "start_time": "2020-09-01T14:56:29.885643Z"
    }
   },
   "outputs": [],
   "source": [
    "all_players = []\n",
    "\n",
    "for match in na_matches:\n",
    "    for player in match['participantIdentities']:\n",
    "        all_players.append(player['player']['summonerId'])\n",
    "\n",
    "players_to_evaluate = pd.Series(all_players).value_counts().reset_index(name=\"count\").query(\"count > 50\")[\"index\"]\n"
   ]
  },
  {
   "cell_type": "code",
   "execution_count": null,
   "metadata": {},
   "outputs": [],
   "source": [
    "[[(i, event) for event in frame['events'] if event['type'] == 'CHAMPION_KILL' and event['killerId'] == 3] for i, frame in enumerate(ranked_timelines[0]['frames'])]"
   ]
  },
  {
   "cell_type": "code",
   "execution_count": null,
   "metadata": {},
   "outputs": [],
   "source": [
    "ranked_timelines[0]['frames'][11]['events']"
   ]
  },
  {
   "cell_type": "code",
   "execution_count": null,
   "metadata": {},
   "outputs": [],
   "source": [
    "# CSD and XPD @ 15   \n",
    "# average (kills + assists + deaths) before 15    \n",
    "\n",
    "ranked_matches[0]['participants']"
   ]
  },
  {
   "cell_type": "markdown",
   "metadata": {},
   "source": [
    "We want to make sure we are incorporating only full games, where all players were connected and playing, so we will take a look at the distribution of maximum attained level in games which ended between 15 and 16 minutes (you can only initiate a surrender vote at the 15-minute mark). Based on this graph, we will not consider any games in which a player failed to exceed level 7 as valid."
   ]
  },
  {
   "cell_type": "code",
   "execution_count": null,
   "metadata": {},
   "outputs": [],
   "source": [
    "short_matches = [match for match in ranked_matches if match['gameDuration'] / 60 < 16 and match['gameDuration'] / 60 > 15]\n",
    "levels = []\n",
    "for match in short_matches:\n",
    "    for participant in match['participants']:\n",
    "        levels.append(participant['stats']['champLevel'])\n",
    "\n",
    "plt.figure(figsize=(8,5))\n",
    "sns.distplot(levels, bins=12, kde=False)\n",
    "plt.xlabel('Max level attained')\n",
    "plt.ylabel('Count')\n",
    "plt.title('Distribution of Maximum Level Attained in 15-16 minute games')\n",
    "plt.xticks(range(1,13));"
   ]
  },
  {
   "cell_type": "code",
   "execution_count": null,
   "metadata": {},
   "outputs": [],
   "source": [
    "players_to_evaluate[0]"
   ]
  },
  {
   "cell_type": "code",
   "execution_count": null,
   "metadata": {},
   "outputs": [],
   "source": [
    "all_players.head()"
   ]
  },
  {
   "cell_type": "code",
   "execution_count": null,
   "metadata": {},
   "outputs": [],
   "source": [
    "ranked_matches[8]"
   ]
  }
 ],
 "metadata": {
  "kernelspec": {
   "display_name": "Python 3",
   "language": "python",
   "name": "python3"
  },
  "language_info": {
   "codemirror_mode": {
    "name": "ipython",
    "version": 3
   },
   "file_extension": ".py",
   "mimetype": "text/x-python",
   "name": "python",
   "nbconvert_exporter": "python",
   "pygments_lexer": "ipython3",
   "version": "3.8.3"
  }
 },
 "nbformat": 4,
 "nbformat_minor": 4
}
