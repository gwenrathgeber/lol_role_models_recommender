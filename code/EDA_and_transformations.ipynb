{
 "cells": [
  {
   "cell_type": "code",
   "execution_count": null,
   "metadata": {},
   "outputs": [],
   "source": [
    "summoner='5bP75FEeodLSJd1NcQlO9aL0G8vrjYiD8lAP1nw5X6yUtECy'\n",
    "match = na_matches[0]\n",
    "timeline = na_timelines[0]\n",
    "summoner in [summoner['player']['summonerId'] for summoner in match['participantIdentities']]"
   ]
  },
  {
   "cell_type": "code",
   "execution_count": null,
   "metadata": {},
   "outputs": [],
   "source": [
    "x = pd.DataFrame(columns=['i','am','dumb'])\n",
    "\n",
    "x = x.append({'i':1,'am':2,'dumb':3}, ignore_index=True)\n",
    "x = x.append({'i':1,'am':3,'dumb':4}, ignore_index=True)\n",
    "x = x.append({'i':'lol','am':3,'dumb':4}, ignore_index=True)\n",
    "\n",
    "\n",
    "x.head()"
   ]
  },
  {
   "cell_type": "code",
   "execution_count": null,
   "metadata": {},
   "outputs": [],
   "source": [
    "x['i'].value_counts().index[0]"
   ]
  },
  {
   "cell_type": "code",
   "execution_count": null,
   "metadata": {},
   "outputs": [],
   "source": [
    "pd.DataFrame(x.mean()).transpose()"
   ]
  },
  {
   "cell_type": "code",
   "execution_count": null,
   "metadata": {},
   "outputs": [],
   "source": [
    "match['teams']"
   ]
  },
  {
   "cell_type": "code",
   "execution_count": null,
   "metadata": {},
   "outputs": [],
   "source": [
    "player_id = 9\n",
    "match['participants'][player_id]['timeline']"
   ]
  },
  {
   "cell_type": "code",
   "execution_count": null,
   "metadata": {},
   "outputs": [],
   "source": [
    "timeline['frames'][10]['events']"
   ]
  },
  {
   "cell_type": "code",
   "execution_count": 5,
   "metadata": {
    "ExecuteTime": {
     "end_time": "2020-09-01T18:53:25.872936Z",
     "start_time": "2020-09-01T18:53:25.847007Z"
    },
    "code_folding": []
   },
   "outputs": [],
   "source": [
    "def get_stats(summoner, region, matches, timelines, team_participants = ([1,2,3,4,5],[6,7,8,9,10])):\n",
    "# For each player:\n",
    "    output = pd.DataFrame(columns=['game_id', 'player_id', 'champ_played', 'role','lane', 'csd_10',\n",
    "                                  'gold_d_10','xpd_10','dmg_share','dmg_taken_share','vision_score',\n",
    "                                  'kill_participation','obj_dmg_share','dragons','barons','wards_cleared',\n",
    "                                  'vision_wards_purchased','kda_early', 'kda_mid', 'kda_late', \n",
    "                                   'solo_kills', 'teamfight_kills', 'skirmish_kills', 'wards_early', \n",
    "                                   'wards_mid', 'wards_late'])\n",
    "    # Main role = most played role where role is played > 40% of the time\n",
    "    # Main champion = most played champion\n",
    "    # Select all matches and timelines that they are in\n",
    "    for i, match in enumerate(matches):\n",
    "        is_in_game = summoner in [summoner['player']['summonerId'] for summoner in match['participantIdentities']]\n",
    "        if is_in_game:\n",
    "        # For each match:\n",
    "        # Match info:\n",
    "            game_id = match['gameId']\n",
    "            player_id = int([player['participantId'] for player in match['participantIdentities'] if player['player']['summonerId'] == summoner][0]) - 1\n",
    "            \n",
    "            # Identify champion played\n",
    "            champ_played = match['participants'][player_id]['championId']\n",
    "            \n",
    "            # Identify role played\n",
    "            role = match['participants'][player_id]['timeline']['role']\n",
    "            lane = match['participants'][player_id]['timeline']['lane']\n",
    "            # Identify lane opponent\n",
    "            team = match['participants'][player_id]['teamId']\n",
    "            team_index = int(str(team)[0]) - 1\n",
    "            teammates = team_participants[team_index]\n",
    "               \n",
    "            # Get CSD, GoldD and XPD @ 10\n",
    "            csd_10 = match['participants'][player_id]['timeline']['creepsPerMinDeltas']['0-10']\n",
    "            gold_d_10 = match['participants'][player_id]['timeline']['goldPerMinDeltas']['0-10']\n",
    "            xpd_10 = match['participants'][player_id]['timeline']['xpPerMinDeltas']['0-10']\n",
    "            \n",
    "            # Get DMG share\n",
    "            total_dmg = np.sum([player['stats']['totalDamageDealtToChampions'] for player in match['participants']])\n",
    "            dmg_share = match['participants'][player_id]['stats']['totalDamageDealtToChampions'] / total_dmg\n",
    "            \n",
    "            # Get DMG Taken share\n",
    "            total_dmg_taken = np.sum([player['stats']['totalDamageTaken'] for player in match['participants']])\n",
    "            dmg_taken_share = match['participants'][player_id]['stats']['totalDamageTaken'] / total_dmg_taken\n",
    "            \n",
    "            # Get vision score\n",
    "            vision_score = match['participants'][player_id]['stats']['visionScore']\n",
    "            \n",
    "            # Get overall kill participation\n",
    "            team_kills = np.sum([player['stats']['kills'] for player in match['participants'] if player['participantId'] in teammates]) + 1\n",
    "            kill_participation = (match['participants'][player_id]['stats']['kills'] + match['participants'][player_id]['stats']['assists']) / team_kills\n",
    "            \n",
    "            # % of team's objective damage % of team's turret damage\n",
    "            total_obj_dmg = np.sum([player['stats']['damageDealtToObjectives'] for player in match['participants']])\n",
    "            obj_dmg_share = match['participants'][player_id]['stats']['damageDealtToObjectives'] / total_obj_dmg\n",
    "            \n",
    "            # of dragons killed / game\n",
    "            dragons = match['teams'][team_index]['dragonKills']\n",
    "            \n",
    "            # of barons killed\n",
    "            barons = match['teams'][team_index]['baronKills']\n",
    "            \n",
    "            # Get wards cleared\n",
    "            wards_cleared = match['participants'][player_id]['stats']['wardsKilled']\n",
    "            \n",
    "            # Get pinks purchased\n",
    "            vision_wards_purchased = match['participants'][player_id]['stats']['visionWardsBoughtInGame']\n",
    "            \n",
    "            # For each timeline:\n",
    "            timeline = timelines[i]\n",
    "            \n",
    "            kda_early = 0\n",
    "            kda_mid = 0\n",
    "            kda_late = 0\n",
    "            solo_kills = 0\n",
    "            teamfight_kills = 0\n",
    "            skirmish_kills = 0\n",
    "            wards_early = 0\n",
    "            wards_mid = 0\n",
    "            wards_late = 0\n",
    "            \n",
    "            for i, frame in enumerate(timeline['frames']):\n",
    "                for event in frame['events']:\n",
    "                    # Get 0-10 K+D+A\n",
    "                    # Get 10-20 K+D+A\n",
    "                    # Get 20+ K+D+A\n",
    "                    if event['type'] == 'CHAMPION_KILL':\n",
    "                        if (player_id + 1) == event['killerId'] or (player_id + 1) == event['victimId'] or (player_id + 1) in event['assistingParticipantIds']:\n",
    "                            if i < 12:\n",
    "                                kda_early += 1\n",
    "                            elif i < 22:\n",
    "                                kda_mid += 1\n",
    "                            else:\n",
    "                                kda_late += 1\n",
    "\n",
    "                        if (player_id + 1) == event['killerId']:\n",
    "                    # get number of solo kills\n",
    "                    # get number of skirmish kills\n",
    "                    # get number of teamfight kills\n",
    "                            if event['assistingParticipantIds'] == []:\n",
    "                                solo_kills += 1\n",
    "                            if len(event['assistingParticipantIds']) == 1:\n",
    "                                skirmish_kills += 1\n",
    "                            if  len(event['assistingParticipantIds']) > 1:\n",
    "                                teamfight_kills += 1\n",
    "                    # Get 0-10 wards placed\n",
    "                    # Get 10-20 wards placed\n",
    "                    # Get 20+ wards placed\n",
    "                    if event['type'] == 'WARD_PLACED' and (player_id + 1) == event['creatorId']:\n",
    "                        if i < 12:\n",
    "                            wards_early += 1\n",
    "                        elif i < 22:\n",
    "                            wards_mid += 1\n",
    "                        else:\n",
    "                            wards_late += 1 \n",
    "            \n",
    "            output = output.append({'game_id':game_id,'player_id':player_id, \n",
    "             'champ_played':champ_played, 'role':role, 'lane':lane,\n",
    "             'csd_10':csd_10,'gold_d_10':gold_d_10,'xpd_10':xpd_10,'dmg_share':dmg_share,\n",
    "             'dmg_taken_share':dmg_taken_share,'vision_score':vision_score,\n",
    "             'kill_participation':kill_participation,'obj_dmg_share':obj_dmg_share,'dragons':dragons,\n",
    "             'barons':barons,'wards_cleared':wards_cleared,'vision_wards_purchased':vision_wards_purchased,\n",
    "             'kda_early':kda_early, 'kda_mid':kda_mid, 'kda_late':kda_late, 'solo_kills':solo_kills, \n",
    "             'teamfight_kills':teamfight_kills, 'skirmish_kills':skirmish_kills, 'wards_early':wards_early, \n",
    "             'wards_mid':wards_mid, 'wards_late':wards_late}, ignore_index=True)\n",
    "    \n",
    "    most_played_champ = output['champ_played'].value_counts().index[0]\n",
    "    most_played_role = output['role'].value_counts().index[0]\n",
    "    most_played_lane = output['lane'].value_counts().index[0]\n",
    "    \n",
    "    output = pd.DataFrame(output.mean()).transpose()\n",
    "    output['summoner_id'] = [summoner]\n",
    "    output['most_played_champ'] = most_played_champ\n",
    "    output['most_played_role'] = most_played_role\n",
    "    output['most_played_lane'] = most_played_lane\n",
    "    output['region'] = region\n",
    "    return output"
   ]
  },
  {
   "cell_type": "code",
   "execution_count": null,
   "metadata": {},
   "outputs": [],
   "source": [
    "test_stats = get_stats(players_to_evaluate[0])\n",
    "test_stats_2 = get_stats(players_to_evaluate[1])"
   ]
  },
  {
   "cell_type": "code",
   "execution_count": null,
   "metadata": {},
   "outputs": [],
   "source": [
    "pd.concat([test_stats,test_stats_2])"
   ]
  },
  {
   "cell_type": "code",
   "execution_count": null,
   "metadata": {},
   "outputs": [],
   "source": [
    "x = pd.DataFrame(columns=['i','am','dumb'])\n",
    "\n",
    "x = x.append({'i':1,'am':2,'dumb':3}, ignore_index=True)\n",
    "x = x.append({'i':1,'am':3,'dumb':4}, ignore_index=True)\n",
    "x = x.append({'i':'lol','am':3,'dumb':4}, ignore_index=True)\n",
    "\n",
    "y = pd.DataFrame()\n",
    "\n",
    "pd.concat([y,x])"
   ]
  },
  {
   "cell_type": "code",
   "execution_count": 20,
   "metadata": {
    "ExecuteTime": {
     "end_time": "2020-09-01T22:51:47.377675Z",
     "start_time": "2020-09-01T22:51:19.092254Z"
    }
   },
   "outputs": [
    {
     "name": "stdout",
     "output_type": "stream",
     "text": [
      "Evaluating players in la1...\n",
      "\n"
     ]
    },
    {
     "ename": "IndexError",
     "evalue": "list index out of range",
     "output_type": "error",
     "traceback": [
      "\u001b[1;31m---------------------------------------------------------------------------\u001b[0m",
      "\u001b[1;31mIndexError\u001b[0m                                Traceback (most recent call last)",
      "\u001b[1;32m<ipython-input-20-d19d631bc194>\u001b[0m in \u001b[0;36m<module>\u001b[1;34m\u001b[0m\n\u001b[0;32m     36\u001b[0m     \u001b[0mplayers_to_evaluate\u001b[0m \u001b[1;33m=\u001b[0m \u001b[0mpd\u001b[0m\u001b[1;33m.\u001b[0m\u001b[0mSeries\u001b[0m\u001b[1;33m(\u001b[0m\u001b[0mall_players\u001b[0m\u001b[1;33m)\u001b[0m\u001b[1;33m.\u001b[0m\u001b[0mvalue_counts\u001b[0m\u001b[1;33m(\u001b[0m\u001b[1;33m)\u001b[0m\u001b[1;33m.\u001b[0m\u001b[0mreset_index\u001b[0m\u001b[1;33m(\u001b[0m\u001b[0mname\u001b[0m\u001b[1;33m=\u001b[0m\u001b[1;34m\"count\"\u001b[0m\u001b[1;33m)\u001b[0m\u001b[1;33m.\u001b[0m\u001b[0mquery\u001b[0m\u001b[1;33m(\u001b[0m\u001b[1;34m\"count > 30\"\u001b[0m\u001b[1;33m)\u001b[0m\u001b[1;33m[\u001b[0m\u001b[1;34m\"index\"\u001b[0m\u001b[1;33m]\u001b[0m\u001b[1;33m\u001b[0m\u001b[1;33m\u001b[0m\u001b[0m\n\u001b[0;32m     37\u001b[0m     \u001b[1;32mdel\u001b[0m \u001b[0mall_players\u001b[0m\u001b[1;33m\u001b[0m\u001b[1;33m\u001b[0m\u001b[0m\n\u001b[1;32m---> 38\u001b[1;33m     \u001b[0mregion_players\u001b[0m \u001b[1;33m=\u001b[0m \u001b[0mpd\u001b[0m\u001b[1;33m.\u001b[0m\u001b[0mconcat\u001b[0m\u001b[1;33m(\u001b[0m\u001b[1;33m[\u001b[0m\u001b[0mget_stats\u001b[0m\u001b[1;33m(\u001b[0m\u001b[0mplayer\u001b[0m\u001b[1;33m,\u001b[0m \u001b[0mregion\u001b[0m\u001b[1;33m,\u001b[0m \u001b[0mmatches\u001b[0m\u001b[1;33m,\u001b[0m \u001b[0mtimelines\u001b[0m\u001b[1;33m)\u001b[0m \u001b[1;32mfor\u001b[0m \u001b[0mplayer\u001b[0m \u001b[1;32min\u001b[0m \u001b[0mplayers_to_evaluate\u001b[0m\u001b[1;33m]\u001b[0m\u001b[1;33m)\u001b[0m\u001b[1;33m\u001b[0m\u001b[1;33m\u001b[0m\u001b[0m\n\u001b[0m\u001b[0;32m     39\u001b[0m     \u001b[0mplayer_df\u001b[0m \u001b[1;33m=\u001b[0m \u001b[0mpd\u001b[0m\u001b[1;33m.\u001b[0m\u001b[0mconcat\u001b[0m\u001b[1;33m(\u001b[0m\u001b[1;33m[\u001b[0m\u001b[0mplayer_df\u001b[0m\u001b[1;33m,\u001b[0m \u001b[0mregion_players\u001b[0m\u001b[1;33m]\u001b[0m\u001b[1;33m)\u001b[0m\u001b[1;33m\u001b[0m\u001b[1;33m\u001b[0m\u001b[0m\n\u001b[0;32m     40\u001b[0m     \u001b[1;32mdel\u001b[0m \u001b[0mmatches\u001b[0m\u001b[1;33m\u001b[0m\u001b[1;33m\u001b[0m\u001b[0m\n",
      "\u001b[1;32m<ipython-input-20-d19d631bc194>\u001b[0m in \u001b[0;36m<listcomp>\u001b[1;34m(.0)\u001b[0m\n\u001b[0;32m     36\u001b[0m     \u001b[0mplayers_to_evaluate\u001b[0m \u001b[1;33m=\u001b[0m \u001b[0mpd\u001b[0m\u001b[1;33m.\u001b[0m\u001b[0mSeries\u001b[0m\u001b[1;33m(\u001b[0m\u001b[0mall_players\u001b[0m\u001b[1;33m)\u001b[0m\u001b[1;33m.\u001b[0m\u001b[0mvalue_counts\u001b[0m\u001b[1;33m(\u001b[0m\u001b[1;33m)\u001b[0m\u001b[1;33m.\u001b[0m\u001b[0mreset_index\u001b[0m\u001b[1;33m(\u001b[0m\u001b[0mname\u001b[0m\u001b[1;33m=\u001b[0m\u001b[1;34m\"count\"\u001b[0m\u001b[1;33m)\u001b[0m\u001b[1;33m.\u001b[0m\u001b[0mquery\u001b[0m\u001b[1;33m(\u001b[0m\u001b[1;34m\"count > 30\"\u001b[0m\u001b[1;33m)\u001b[0m\u001b[1;33m[\u001b[0m\u001b[1;34m\"index\"\u001b[0m\u001b[1;33m]\u001b[0m\u001b[1;33m\u001b[0m\u001b[1;33m\u001b[0m\u001b[0m\n\u001b[0;32m     37\u001b[0m     \u001b[1;32mdel\u001b[0m \u001b[0mall_players\u001b[0m\u001b[1;33m\u001b[0m\u001b[1;33m\u001b[0m\u001b[0m\n\u001b[1;32m---> 38\u001b[1;33m     \u001b[0mregion_players\u001b[0m \u001b[1;33m=\u001b[0m \u001b[0mpd\u001b[0m\u001b[1;33m.\u001b[0m\u001b[0mconcat\u001b[0m\u001b[1;33m(\u001b[0m\u001b[1;33m[\u001b[0m\u001b[0mget_stats\u001b[0m\u001b[1;33m(\u001b[0m\u001b[0mplayer\u001b[0m\u001b[1;33m,\u001b[0m \u001b[0mregion\u001b[0m\u001b[1;33m,\u001b[0m \u001b[0mmatches\u001b[0m\u001b[1;33m,\u001b[0m \u001b[0mtimelines\u001b[0m\u001b[1;33m)\u001b[0m \u001b[1;32mfor\u001b[0m \u001b[0mplayer\u001b[0m \u001b[1;32min\u001b[0m \u001b[0mplayers_to_evaluate\u001b[0m\u001b[1;33m]\u001b[0m\u001b[1;33m)\u001b[0m\u001b[1;33m\u001b[0m\u001b[1;33m\u001b[0m\u001b[0m\n\u001b[0m\u001b[0;32m     39\u001b[0m     \u001b[0mplayer_df\u001b[0m \u001b[1;33m=\u001b[0m \u001b[0mpd\u001b[0m\u001b[1;33m.\u001b[0m\u001b[0mconcat\u001b[0m\u001b[1;33m(\u001b[0m\u001b[1;33m[\u001b[0m\u001b[0mplayer_df\u001b[0m\u001b[1;33m,\u001b[0m \u001b[0mregion_players\u001b[0m\u001b[1;33m]\u001b[0m\u001b[1;33m)\u001b[0m\u001b[1;33m\u001b[0m\u001b[1;33m\u001b[0m\u001b[0m\n\u001b[0;32m     40\u001b[0m     \u001b[1;32mdel\u001b[0m \u001b[0mmatches\u001b[0m\u001b[1;33m\u001b[0m\u001b[1;33m\u001b[0m\u001b[0m\n",
      "\u001b[1;32m<ipython-input-5-cc93255cec93>\u001b[0m in \u001b[0;36mget_stats\u001b[1;34m(summoner, region, matches, timelines, team_participants)\u001b[0m\n\u001b[0;32m     66\u001b[0m \u001b[1;33m\u001b[0m\u001b[0m\n\u001b[0;32m     67\u001b[0m             \u001b[1;31m# For each timeline:\u001b[0m\u001b[1;33m\u001b[0m\u001b[1;33m\u001b[0m\u001b[1;33m\u001b[0m\u001b[0m\n\u001b[1;32m---> 68\u001b[1;33m             \u001b[0mtimeline\u001b[0m \u001b[1;33m=\u001b[0m \u001b[0mtimelines\u001b[0m\u001b[1;33m[\u001b[0m\u001b[0mi\u001b[0m\u001b[1;33m]\u001b[0m\u001b[1;33m\u001b[0m\u001b[1;33m\u001b[0m\u001b[0m\n\u001b[0m\u001b[0;32m     69\u001b[0m \u001b[1;33m\u001b[0m\u001b[0m\n\u001b[0;32m     70\u001b[0m             \u001b[0mkda_early\u001b[0m \u001b[1;33m=\u001b[0m \u001b[1;36m0\u001b[0m\u001b[1;33m\u001b[0m\u001b[1;33m\u001b[0m\u001b[0m\n",
      "\u001b[1;31mIndexError\u001b[0m: list index out of range"
     ]
    }
   ],
   "source": [
    "region_base_url_dict = {'na':'na1.api.riotgames.com',\n",
    "          'br':'br1.api.riotgames.com',\n",
    "          'eun':'eun1.api.riotgames.com',\n",
    "          'euw':'euw1.api.riotgames.com',\n",
    "          'jp':'jp1.api.riotgames.com',\n",
    "          'kr':'kr.api.riotgames.com',\n",
    "          'la1':'la1.api.riotgames.com',\n",
    "          'la2':'la2.api.riotgames.com',\n",
    "          'oce':'oc1.api.riotgames.com',\n",
    "          'tr':'tr1.api.riotgames.com',\n",
    "          'ru':'ru.api.riotgames.com'}\n",
    "\n",
    "#player_df = None\n",
    "for region in ['la1']:\n",
    "    region_start_time = time.time()\n",
    "    print(f'Evaluating players in {region}...\\n')\n",
    "    matches = []\n",
    "    timelines = []\n",
    "    players_to_evaluate = []\n",
    "    \n",
    "    with jsonlines.open(f'../data/cleaned/matches_{region}.jsonl') as infile:\n",
    "        for line in infile:\n",
    "            matches.append(line)\n",
    "    del infile        \n",
    "    with jsonlines.open(f'../data/cleaned/timelines_{region}.jsonl') as infile:\n",
    "        for line in infile:\n",
    "            timelines.append(line)\n",
    "    del infile\n",
    "    \n",
    "    all_players = []\n",
    "\n",
    "    for match in matches:\n",
    "        for player in match['participantIdentities']:\n",
    "            all_players.append(player['player']['summonerId'])\n",
    "\n",
    "    players_to_evaluate = pd.Series(all_players).value_counts().reset_index(name=\"count\").query(\"count > 30\")[\"index\"]\n",
    "    del all_players\n",
    "    region_players = pd.concat([get_stats(player, region, matches, timelines) for player in players_to_evaluate])\n",
    "    player_df = pd.concat([player_df, region_players])\n",
    "    del matches\n",
    "    del timelines\n",
    "    print(f'{region} completed. {(time.time() - region_start_time)/60} minutes elapsed.\\n')\n",
    "    "
   ]
  },
  {
   "cell_type": "code",
   "execution_count": 21,
   "metadata": {
    "ExecuteTime": {
     "end_time": "2020-09-02T00:21:21.280665Z",
     "start_time": "2020-09-02T00:21:21.275690Z"
    }
   },
   "outputs": [
    {
     "data": {
      "text/plain": [
       "12068"
      ]
     },
     "execution_count": 21,
     "metadata": {},
     "output_type": "execute_result"
    }
   ],
   "source": [
    "len(matches)"
   ]
  },
  {
   "cell_type": "code",
   "execution_count": 23,
   "metadata": {
    "ExecuteTime": {
     "end_time": "2020-09-02T00:24:49.867963Z",
     "start_time": "2020-09-02T00:24:26.398663Z"
    }
   },
   "outputs": [
    {
     "data": {
      "text/plain": [
       "6182"
      ]
     },
     "execution_count": 23,
     "metadata": {},
     "output_type": "execute_result"
    }
   ],
   "source": [
    "timelines = []\n",
    "with jsonlines.open(f'../data/cleaned/timelines_la1.jsonl') as infile:\n",
    "        for line in infile:\n",
    "            timelines.append(line)\n",
    "del infile\n",
    "\n",
    "len(timelines)"
   ]
  },
  {
   "cell_type": "code",
   "execution_count": null,
   "metadata": {
    "ExecuteTime": {
     "end_time": "2020-09-01T22:51:47.379643Z",
     "start_time": "2020-09-01T22:51:23.554Z"
    }
   },
   "outputs": [],
   "source": [
    "player_df.to_csv('../data/role_models.csv', index=False)"
   ]
  },
  {
   "cell_type": "code",
   "execution_count": 24,
   "metadata": {
    "ExecuteTime": {
     "end_time": "2020-09-02T14:02:42.911138Z",
     "start_time": "2020-09-02T14:02:42.904158Z"
    }
   },
   "outputs": [
    {
     "data": {
      "text/plain": [
       "Index(['game_id', 'player_id', 'champ_played', 'csd_10', 'gold_d_10', 'xpd_10',\n",
       "       'dmg_share', 'dmg_taken_share', 'vision_score', 'kill_participation',\n",
       "       'obj_dmg_share', 'dragons', 'barons', 'wards_cleared',\n",
       "       'vision_wards_purchased', 'kda_early', 'kda_mid', 'kda_late',\n",
       "       'solo_kills', 'teamfight_kills', 'skirmish_kills', 'wards_early',\n",
       "       'wards_mid', 'wards_late', 'summoner_id', 'most_played_champ',\n",
       "       'most_played_role', 'most_played_lane', 'region'],\n",
       "      dtype='object')"
      ]
     },
     "execution_count": 24,
     "metadata": {},
     "output_type": "execute_result"
    }
   ],
   "source": [
    "player_df.columns"
   ]
  },
  {
   "cell_type": "code",
   "execution_count": null,
   "metadata": {
    "ExecuteTime": {
     "start_time": "2020-09-02T14:03:21.621Z"
    }
   },
   "outputs": [
    {
     "data": {
      "text/plain": [
       "<seaborn.axisgrid.PairGrid at 0x1890ea92e20>"
      ]
     },
     "execution_count": 25,
     "metadata": {},
     "output_type": "execute_result"
    }
   ],
   "source": [
    "sns.pairplot(player_df.drop(columns=['game_id','player_id','champ_played','summoner_id','most_played_champ','most_played_role','most_played_lane','region']))"
   ]
  },
  {
   "cell_type": "code",
   "execution_count": null,
   "metadata": {},
   "outputs": [],
   "source": [
    "ids = []\n",
    "with jsonlines.open(f'../data/scraped_ids_na.jsonl') as infile:\n",
    "                for line in infile.iter():\n",
    "                    ids.append(line)"
   ]
  },
  {
   "cell_type": "markdown",
   "metadata": {},
   "source": [
    "Questions to answer:\n",
    "*We want to use ratios not absolute stats, as we're comparing high-elo to low-elo so stuff like CSPM is just not going to be useful...*\n",
    "\n",
    "#### Will need later:\n",
    "- Most-played champion\n",
    "- Most-played role\n",
    "\n",
    "#### Fighting fingerprint: percentage of fights with are duels, skirmishes, and teamfights...\n",
    "- Can I calculate duels (1v1 fights as detected by the death of one or both players)\n",
    "- Stat contribution: easy. Get DMG Share and DMG Taken Share\n",
    "- Can I calculate teamfights (3v3+ fights as detected by assists or kills)\n",
    "- Can I calculate picks (1 player dying to 2 or more players with no return kill (how to define return kill?)\n",
    "- Can I calculate skirmishes (2vX) \n",
    "\n",
    "#### Lane aggressiveness:\n",
    "CSD and XPD @ 15   \n",
    "average (kills + assists + deaths) before 15    \n",
    "(STRETCH) relate to number of roams?    \n",
    "\n",
    "#### Vision focus:\n",
    "Wards placed pre-10  \n",
    "Wards placed pre-20  \n",
    "Wards placed pre-30  \n",
    "\n",
    "Vision Score/Minute   \n",
    "\n",
    "Wards Cleared  \n",
    "Pinks purchased  \n",
    "(STRETCH) % of enemy wards cleared  \n",
    "\n",
    "#### Aggression\n",
    "Average time to First Kill/Assist  \n",
    "Average time to First Tower  \n",
    "% of kills = solo kills  \n",
    "Forward Kills: % of kills past enemy 1st turret line  \n",
    "Kill Participation  \n",
    "Overall Kills+Assists / Minute  \n",
    "\n",
    "#### Teamwork\n",
    "% of team's objective damage\n",
    "% of team's turret damage  \n",
    "\\# of dragons killed / game  \n",
    "\\# of barons killed / game\n",
    "\n",
    "\n",
    "\n"
   ]
  },
  {
   "cell_type": "code",
   "execution_count": 9,
   "metadata": {
    "ExecuteTime": {
     "end_time": "2020-09-01T20:32:45.621166Z",
     "start_time": "2020-09-01T20:32:45.617175Z"
    }
   },
   "outputs": [],
   "source": [
    "import pandas as pd\n",
    "import numpy as np\n",
    "import matplotlib.pyplot as plt\n",
    "import seaborn as sns\n",
    "import jsonlines\n",
    "import json\n",
    "import time\n",
    "\n",
    "pd.set_option('display.max_columns', 50)\n",
    "pd.set_option('display.max_rows', 100)"
   ]
  },
  {
   "cell_type": "code",
   "execution_count": null,
   "metadata": {},
   "outputs": [],
   "source": [
    "def ms_to_s(ms):\n",
    "    return round(ms / 1000)"
   ]
  },
  {
   "cell_type": "code",
   "execution_count": null,
   "metadata": {},
   "outputs": [],
   "source": [
    "na_matches = []\n",
    "with jsonlines.open('../data/cleaned/matches_na.jsonl') as infile:\n",
    "    for line in infile:\n",
    "        na_matches.append(line)\n",
    "        \n",
    "        "
   ]
  },
  {
   "cell_type": "code",
   "execution_count": null,
   "metadata": {},
   "outputs": [],
   "source": [
    "na_timelines = []\n",
    "with jsonlines.open('../data/cleaned/timelines_na.jsonl') as infile:\n",
    "    for line in infile:\n",
    "        na_timelines.append(line)"
   ]
  },
  {
   "cell_type": "code",
   "execution_count": null,
   "metadata": {},
   "outputs": [],
   "source": [
    "all_players = []\n",
    "\n",
    "for match in na_matches:\n",
    "    for player in match['participantIdentities']:\n",
    "        all_players.append(player['player']['summonerId'])\n",
    "\n",
    "players_to_evaluate = pd.Series(all_players).value_counts().reset_index(name=\"count\").query(\"count > 50\")[\"index\"]\n"
   ]
  },
  {
   "cell_type": "code",
   "execution_count": null,
   "metadata": {},
   "outputs": [],
   "source": [
    "[[(i, event) for event in frame['events'] if event['type'] == 'CHAMPION_KILL' and event['killerId'] == 3] for i, frame in enumerate(ranked_timelines[0]['frames'])]"
   ]
  },
  {
   "cell_type": "code",
   "execution_count": null,
   "metadata": {},
   "outputs": [],
   "source": [
    "ranked_timelines[0]['frames'][11]['events']"
   ]
  },
  {
   "cell_type": "code",
   "execution_count": null,
   "metadata": {},
   "outputs": [],
   "source": [
    "# CSD and XPD @ 15   \n",
    "# average (kills + assists + deaths) before 15    \n",
    "\n",
    "ranked_matches[0]['participants']"
   ]
  },
  {
   "cell_type": "markdown",
   "metadata": {},
   "source": [
    "We want to make sure we are incorporating only full games, where all players were connected and playing, so we will take a look at the distribution of maximum attained level in games which ended between 15 and 16 minutes (you can only initiate a surrender vote at the 15-minute mark). Based on this graph, we will not consider any games in which a player failed to exceed level 7 as valid."
   ]
  },
  {
   "cell_type": "code",
   "execution_count": null,
   "metadata": {},
   "outputs": [],
   "source": [
    "short_matches = [match for match in ranked_matches if match['gameDuration'] / 60 < 16 and match['gameDuration'] / 60 > 15]\n",
    "levels = []\n",
    "for match in short_matches:\n",
    "    for participant in match['participants']:\n",
    "        levels.append(participant['stats']['champLevel'])\n",
    "\n",
    "plt.figure(figsize=(8,5))\n",
    "sns.distplot(levels, bins=12, kde=False)\n",
    "plt.xlabel('Max level attained')\n",
    "plt.ylabel('Count')\n",
    "plt.title('Distribution of Maximum Level Attained in 15-16 minute games')\n",
    "plt.xticks(range(1,13));"
   ]
  },
  {
   "cell_type": "code",
   "execution_count": null,
   "metadata": {},
   "outputs": [],
   "source": [
    "players_to_evaluate[0]"
   ]
  },
  {
   "cell_type": "code",
   "execution_count": null,
   "metadata": {},
   "outputs": [],
   "source": [
    "all_players.head()"
   ]
  },
  {
   "cell_type": "code",
   "execution_count": null,
   "metadata": {},
   "outputs": [],
   "source": [
    "ranked_matches[8]"
   ]
  }
 ],
 "metadata": {
  "kernelspec": {
   "display_name": "Python 3",
   "language": "python",
   "name": "python3"
  },
  "language_info": {
   "codemirror_mode": {
    "name": "ipython",
    "version": 3
   },
   "file_extension": ".py",
   "mimetype": "text/x-python",
   "name": "python",
   "nbconvert_exporter": "python",
   "pygments_lexer": "ipython3",
   "version": "3.8.3"
  }
 },
 "nbformat": 4,
 "nbformat_minor": 4
}
