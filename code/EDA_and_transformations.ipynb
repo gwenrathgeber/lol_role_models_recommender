{
 "cells": [
  {
   "cell_type": "code",
   "execution_count": null,
   "metadata": {},
   "outputs": [],
   "source": [
    "# For each player:\n",
    "    # Select all matches and timelines that they are in\n",
    "    # Identify champion played\n",
    "    # Identify role played\n",
    "    # Main role = most played role where role is played > 40% of the time\n",
    "    # Main champion = most played champion\n",
    "    \n",
    "    # For each match:\n",
    "        # Get DMG share\n",
    "        # Get DMG Taken share\n",
    "        # Get 0-10 CSPM\n",
    "        # Get 10-20 CSPM\n",
    "        # Get 20+ CSPM:\n",
    "            # Subtract CS at 20 from total CS, divide by game time \n",
    "    \n",
    "    # For each timeline:\n",
    "        # Get number of duel kills and deaths\n",
    "        # Get number of teamfight kills and deaths\n",
    "        # Get number of skirmish kills and deaths\n",
    "        # Get 0-10 K+D+A\n",
    "        # Get 10-20 K+D+A\n",
    "        # Get 20+ K+D+A"
   ]
  },
  {
   "cell_type": "markdown",
   "metadata": {},
   "source": [
    "Questions to answer:\n",
    "*We want to use ratios not absolute stats, as we're comparing high-elo to low-elo so stuff like CSPM is just not going to be useful...*\n",
    "\n",
    "#### Will need later:\n",
    "- Most-played champion\n",
    "- Most-played role\n",
    "\n",
    "#### Fighting fingerprint: percentage of fights with are duels, skirmishes, and teamfights...\n",
    "- Can I calculate duels (1v1 fights as detected by the death of one or both players)\n",
    "- Stat contribution: easy. Get DMG Share and DMG Taken Share\n",
    "- Can I calculate teamfights (3v3+ fights as detected by assists or kills)\n",
    "- Can I calculate picks (1 player dying to 2 or more players with no return kill (how to define return kill?)\n",
    "- Can I calculate skirmishes (2vX)\n",
    "\n",
    "#### Farming to Fighting Ratio\n",
    "Early Game: pre-10 CSPM / average(kills + assists + deaths) before 10  \n",
    "Mid Game: 10-20 min CSPM / average(kills + assists + deaths) between 10 and 20  \n",
    "Late Game: 20+ CSPM / average(kills + assists + deaths) after 20  \n",
    "\n",
    "#### Lane aggressiveness:\n",
    "CSD and XPD @ 15   \n",
    "average (kills + assists + deaths) before 15    \n",
    "(STRETCH) relate to number of roams?    \n",
    "\n",
    "#### Vision focus:\n",
    "Wards placed pre-10  \n",
    "Wards placed pre-20  \n",
    "Wards placed pre-30  \n",
    "\n",
    "Vision Score/Minute   \n",
    "\n",
    "Wards Cleared  \n",
    "Pinks purchased  \n",
    "(STRETCH) % of enemy wards cleared  \n",
    "\n",
    "#### Aggression\n",
    "Average time to First Kill/Assist  \n",
    "Average time to First Tower  \n",
    "% of kills = solo kills  \n",
    "Forward Kills: % of kills past enemy 1st turret line  \n",
    "Kill Participation  \n",
    "Overall Kills+Assists / Minute  \n",
    "\n",
    "#### Teamwork\n",
    "% of team's objective damage\n",
    "% of team's turret damage  \n",
    "\\# of dragons killed / game  \n",
    "\\# of barons killed / game\n",
    "average time to first baron\n",
    "\n",
    "\n",
    "\n"
   ]
  },
  {
   "cell_type": "code",
   "execution_count": null,
   "metadata": {},
   "outputs": [],
   "source": [
    "import pandas as pd\n",
    "import numpy as np\n",
    "import matplotlib.pyplot as plt\n",
    "import seaborn as sns\n",
    "import jsonlines\n",
    "import json\n",
    "\n",
    "pd.set_option('display.max_columns', None)\n",
    "pd.set_option('display.max_rows', None)"
   ]
  },
  {
   "cell_type": "code",
   "execution_count": null,
   "metadata": {},
   "outputs": [],
   "source": [
    "def ms_to_s(ms):\n",
    "    return round(ms / 1000)"
   ]
  },
  {
   "cell_type": "code",
   "execution_count": null,
   "metadata": {},
   "outputs": [],
   "source": [
    "na_matches = []\n",
    "with jsonlines.open('../data/matches_na.jsonl') as infile:\n",
    "    for line in infile:\n",
    "        na_matches.append(line)\n",
    "        \n",
    "        "
   ]
  },
  {
   "cell_type": "code",
   "execution_count": null,
   "metadata": {},
   "outputs": [],
   "source": [
    "na_timelines = []\n",
    "with jsonlines.open('../data/timelines_na.jsonl') as infile:\n",
    "    for line in infile:\n",
    "        na_timelines.append(line)"
   ]
  },
  {
   "cell_type": "code",
   "execution_count": null,
   "metadata": {},
   "outputs": [],
   "source": [
    "ranked_matches = []\n",
    "ranked_timelines = []\n",
    "is_ranked = []\n",
    "game_ids = []\n",
    "for i, match in enumerate(na_matches):\n",
    "    if match['queueId'] == 420 and match['gameId'] not in game_ids:\n",
    "        ranked_matches.append(match)\n",
    "        is_ranked.append(i)\n",
    "        game_ids.append(match['gameId'])\n",
    "        \n",
    "for i, timeline in enumerate(na_timelines):\n",
    "    if i in is_ranked:\n",
    "        ranked_timelines.append(timeline)\n",
    "        \n",
    "del na_matches\n",
    "del na_timelines\n",
    "del is_ranked\n",
    "del game_ids\n"
   ]
  },
  {
   "cell_type": "code",
   "execution_count": null,
   "metadata": {},
   "outputs": [],
   "source": [
    "all_players = []\n",
    "\n",
    "for match in ranked_matches:\n",
    "    for player in match['participantIdentities']:\n",
    "        all_players.append(player['player']['summonerId'])\n",
    "\n",
    "players_to_evaluate = pd.Series(all_players).value_counts().reset_index(name=\"count\").query(\"count > 50\")[\"index\"]\n"
   ]
  },
  {
   "cell_type": "code",
   "execution_count": null,
   "metadata": {},
   "outputs": [],
   "source": [
    "[[(i, event) for event in frame['events'] if event['type'] == 'CHAMPION_KILL' and event['killerId'] == 3] for i, frame in enumerate(ranked_timelines[0]['frames'])]"
   ]
  },
  {
   "cell_type": "code",
   "execution_count": null,
   "metadata": {},
   "outputs": [],
   "source": [
    "ranked_timelines[0]['frames'][11]['events']"
   ]
  },
  {
   "cell_type": "code",
   "execution_count": null,
   "metadata": {},
   "outputs": [],
   "source": [
    "# CSD and XPD @ 15   \n",
    "# average (kills + assists + deaths) before 15    \n",
    "\n",
    "ranked_matches[0]['participants']"
   ]
  },
  {
   "cell_type": "markdown",
   "metadata": {},
   "source": [
    "We want to make sure we are incorporating only full games, where all players were connected and playing, so we will take a look at the distribution of maximum attained level in games which ended between 15 and 16 minutes (you can only initiate a surrender vote at the 15-minute mark). Based on this graph, we will not consider any games in which a player failed to exceed level 7 as valid."
   ]
  },
  {
   "cell_type": "code",
   "execution_count": null,
   "metadata": {},
   "outputs": [],
   "source": [
    "short_matches = [match for match in ranked_matches if match['gameDuration'] / 60 < 16 and match['gameDuration'] / 60 > 15]\n",
    "levels = []\n",
    "for match in short_matches:\n",
    "    for participant in match['participants']:\n",
    "        levels.append(participant['stats']['champLevel'])\n",
    "\n",
    "plt.figure(figsize=(8,5))\n",
    "sns.distplot(levels, bins=12, kde=False)\n",
    "plt.xlabel('Max level attained')\n",
    "plt.ylabel('Count')\n",
    "plt.title('Distribution of Maximum Level Attained in 15-16 minute games')\n",
    "plt.xticks(range(1,13));"
   ]
  },
  {
   "cell_type": "code",
   "execution_count": null,
   "metadata": {},
   "outputs": [],
   "source": [
    "players_to_evaluate[0]"
   ]
  },
  {
   "cell_type": "code",
   "execution_count": null,
   "metadata": {},
   "outputs": [],
   "source": [
    "all_players.head()"
   ]
  },
  {
   "cell_type": "code",
   "execution_count": null,
   "metadata": {},
   "outputs": [],
   "source": [
    "ranked_matches[8]"
   ]
  }
 ],
 "metadata": {
  "kernelspec": {
   "display_name": "Python 3",
   "language": "python",
   "name": "python3"
  },
  "language_info": {
   "codemirror_mode": {
    "name": "ipython",
    "version": 3
   },
   "file_extension": ".py",
   "mimetype": "text/x-python",
   "name": "python",
   "nbconvert_exporter": "python",
   "pygments_lexer": "ipython3",
   "version": "3.8.3"
  }
 },
 "nbformat": 4,
 "nbformat_minor": 4
}
